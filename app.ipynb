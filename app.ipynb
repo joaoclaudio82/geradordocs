{
 "cells": [
  {
   "cell_type": "code",
   "execution_count": null,
   "metadata": {},
   "outputs": [
    {
     "name": "stdout",
     "output_type": "stream",
     "text": [
      "The autoreload extension is already loaded. To reload it, use:\n",
      "  %reload_ext autoreload\n"
     ]
    }
   ],
   "source": [
    "%load_ext autoreload\n",
    "%autoreload 2"
   ]
  },
  {
   "cell_type": "markdown",
   "metadata": {},
   "source": [
    "## Applicação - Projeto Inovafit"
   ]
  },
  {
   "cell_type": "code",
   "execution_count": 44,
   "metadata": {},
   "outputs": [],
   "source": [
    "from projai.article import DocumentProcessor\n",
    "\n",
    "from projai import AppProjectInovafit\n",
    "from projai.prompts import TEMPLATE_PROJETO_INOVAFIT_PT_V2\n",
    "from projai.prompts import PROMPT_ENHANCE_SECTION_PT_V3\n",
    "from projai.prompts import prompt_projeto_inovafit\n",
    "from projai.constants import AGENTS"
   ]
  },
  {
   "cell_type": "markdown",
   "metadata": {},
   "source": [
    "\\\\\\### Dados de entrada e de configuração\n",
    "\n",
    "Os dicionários a seguir são dados de entrada. Servem para configurar o que e como será processado pela aplicação\n",
    "\n",
    "* **agent_kwargs**: são os parâmetros do agente de IA. Você pode consultar quais agentes estão disponíveis no módulo `agents`, e usar a função `help` para saber quais parâmetros são possíveis.\n",
    "* **project_data**: são os argumentos do parâmetros `prompt_func`.\n",
    "* **config**: outros argumentos da aplicação"
   ]
  },
  {
   "cell_type": "code",
   "execution_count": 45,
   "metadata": {},
   "outputs": [
    {
     "data": {
      "text/plain": [
       "''"
      ]
     },
     "execution_count": 45,
     "metadata": {},
     "output_type": "execute_result"
    }
   ],
   "source": [
    "# Exemplo\n",
    "from aigents.constants import MODELS\n",
    "# parâmetros para o agente baseado na IA\n",
    "agent_kwargs = {\n",
    "    'web_search': True,  # only for Bing\n",
    "    \"model\": MODELS[3]  # only for openai\n",
    "}\n",
    "\n",
    "# parâmetros da função geradora do setup e dos prompts\n",
    "# são os argumentos de `prompt_func` da classe AppProjectInovafit\n",
    "project_data = {\n",
    "    \"knowledge_area\": \"tecnologia\",\n",
    "    \"area\": \"tecnologia\",\n",
    "    \"subject\": (\n",
    "        \"Desenvolvimento de uma Plataforma de IA para Marketing e Vendas\",\n",
    "    ),\n",
    "    \"topic\": (\n",
    "        \"Desenvolvimento de uma Plataforma de IA para Marketing e Vendas\",\n",
    "    ),\n",
    "    \"template\": TEMPLATE_PROJETO_INOVAFIT_PT_V2,\n",
    "}\n",
    "\n",
    "config = {\n",
    "    \"agent_name\": AGENTS[1],  # AGENTS[1] é `async_openai``\n",
    "    \"agent_kwargs\": agent_kwargs,\n",
    "    \"helper_setup\": None, # (str) texto de setup para o agente responsável por aprimorar o texto  # noqa E501\n",
    "    \"prompt_func\": prompt_projeto_inovafit,  # função que gera o setup e os prompts. Veja no módulo prompts\n",
    "    \"context\": (  # contexto adicional ao setup do agente\n",
    "        \"\"\"1.1 Objetivo do Projeto\n",
    "            Criar uma plataforma integrada que utilize IA para automatizar e otimizar as operações de marketing e vendas de pequenas e médias empresas, melhorando sua performance e competitividade no mercado.\n",
    "1.2 Funcionalidades Principais\n",
    "    Reconhecimento de Imagem e Análise Visual: Implementar modelos de IA que analisem imagens e vídeos para identificar elementos de marca, estilos visuais e logotipos, auxiliando na criação de conteúdos consistentes e alinhados com a identidade da marca.\n",
    "    Geração Automática de Conteúdo: Utilizar IA para criar textos, imagens e vídeos automaticamente, adaptando o conteúdo para diferentes plataformas e públicos-alvo.\n",
    "    Análise de Concorrência: Desenvolver ferramentas que monitoram e analisam as estratégias de marketing dos concorrentes, oferecendo insights valiosos sobre suas campanhas e pontos fortes.\n",
    "    Detecção de Tendências: Aplicar algoritmos de aprendizado de máquina para identificar tendências emergentes em mídias sociais e comportamentos de consumidores, ajudando as empresas a se adaptarem rapidamente.\n",
    "    Teste A/B Automatizado: Implementar sistemas de IA para gerenciar e otimizar testes A/B em grande escala, melhorando a eficácia dos criativos de marketing.\n",
    "    Personalização em Escala: Utilizar IA para personalizar mensagens de marketing para diferentes segmentos de audiência com base em dados comportamentais.\n",
    "    Gestão de Mídia Automatizada: Desenvolver ferramentas que automatizem a gestão de campanhas de mídia paga, permitindo ajustes em tempo real e otimização de investimentos.\n",
    "    Insights e Otimização: Oferecer dashboards com insights prescritivos e preditivos, baseados na análise de dados, para orientar a tomada de decisões estratégicas.\n",
    "1.3 Métricas e Avaliação de Performance\n",
    "    Métricas de Marketing: Monitorar indicadores como taxa de abertura de e-mails, CTR (Click-Through Rate) de mídia paga, tráfego orgânico e engajamento social.\n",
    "    Análise de Qualidade de Conteúdo: Implementar sistemas de scoring para avaliar a qualidade dos anúncios, textos e páginas de destino.\n",
    "    KPIs Consolidado: Apresentar todos os KPIs relevantes em um único dashboard, facilitando a visualização e o acompanhamento dos resultados.\n",
    "2. Estratégias de Implementação\n",
    "2.1 Pesquisa e Desenvolvimento\n",
    "    Identificação de Necessidades: Realizar pesquisas com empresas de pequeno e médio porte para entender suas principais necessidades e desafios no marketing e vendas.\n",
    "    Desenvolvimento de Prototipos: Criar protótipos da plataforma e funcionalidades, realizando testes em ambiente controlado.\n",
    "2.2 Integração e Testes\n",
    "    Integração com APIs: Assegurar que a plataforma possa ser integrada com outras ferramentas e sistemas utilizados pelas empresas (CRM, sistemas de e-commerce, etc.).\n",
    "    Testes Piloto: Implementar a plataforma em empresas parceiras para testar e ajustar as funcionalidades com base no feedback real.\n",
    "2.3 Lançamento e Escala\n",
    "    Marketing e Divulgação: Desenvolver uma campanha de marketing para promover a plataforma, destacando seus benefícios e diferenciais.\n",
    "    Suporte e Treinamento: Oferecer suporte e treinamento para os usuários, garantindo que eles saibam como utilizar todas as funcionalidades da plataforma de forma eficaz.\n",
    "3. Inovação Contínua\n",
    "    Coleta de Feedback: Continuamente coletar feedback dos usuários para melhorar e adicionar novas funcionalidades à plataforma.\n",
    "    Atualizações e Melhorias: Implementar atualizações regulares, incorporando as últimas inovações em IA e marketing digital.\"\"\"  \n",
    "    ),\n",
    "}\n",
    "\n",
    "# juntamos todos os dicionários\n",
    "config.update(project_data)\n",
    "\"\"\"\"\"\""
   ]
  },
  {
   "cell_type": "code",
   "execution_count": 46,
   "metadata": {},
   "outputs": [],
   "source": [
    "app = AppProjectInovafit(**config)"
   ]
  },
  {
   "cell_type": "code",
   "execution_count": 47,
   "metadata": {},
   "outputs": [
    {
     "name": "stderr",
     "output_type": "stream",
     "text": [
      "INFO: >> Starting building process...\n",
      "INFO: \t|_ 1/4 Asking model gpt-4-0125-preview\n",
      "INFO: \t|_ 2/4 Asking model gpt-4-0125-preview\n",
      "INFO: \t|_ 3/4 Asking model gpt-4-0125-preview\n",
      "INFO: \t|_ 4/4 Asking model gpt-4-0125-preview\n",
      "INFO: \t|_ model gpt-4-0125-preview responded!\n",
      "INFO: \t|_ model gpt-4-0125-preview responded!\n",
      "INFO: \t|_ model gpt-4-0125-preview responded!\n",
      "INFO: \t|_ model gpt-4-0125-preview responded!\n",
      "INFO: >> Building process finished!\n",
      "/snap/core20/current/lib/x86_64-linux-gnu/libstdc++.so.6: version `GLIBCXX_3.4.29' not found (required by /lib/x86_64-linux-gnu/libproxy.so.1)\n",
      "Failed to load module: /home/joaoclaudio/snap/code/common/.cache/gio-modules/libgiolibproxy.so\n"
     ]
    }
   ],
   "source": [
    "responses = await app.run(  # remova o await se não estiver usando async\n",
    "    enhance_times=0,  # quantas vezes pedir a outro agente que melhore o texto\n",
    "    enhance_prompt=PROMPT_ENHANCE_SECTION_PT_V3,  # prompt de melhora do texto\n",
    "    conversation=False  # se faz chamadas API como conversas\n",
    ")"
   ]
  },
  {
   "cell_type": "code",
   "execution_count": 42,
   "metadata": {},
   "outputs": [
    {
     "ename": "TypeError",
     "evalue": "string indices must be integers",
     "output_type": "error",
     "traceback": [
      "\u001b[0;31m---------------------------------------------------------------------------\u001b[0m",
      "\u001b[0;31mTypeError\u001b[0m                                 Traceback (most recent call last)",
      "Cell \u001b[0;32mIn[42], line 3\u001b[0m\n\u001b[1;32m      1\u001b[0m \u001b[38;5;66;03m# Caso falhe criar o docx, confira aqui\u001b[39;00m\n\u001b[1;32m      2\u001b[0m doc \u001b[38;5;241m=\u001b[39m DocumentProcessor()\n\u001b[0;32m----> 3\u001b[0m \u001b[43mdoc\u001b[49m\u001b[38;5;241;43m.\u001b[39;49m\u001b[43mload\u001b[49m\u001b[43m(\u001b[49m\u001b[43mresponses\u001b[49m\u001b[43m)\u001b[49m\n\u001b[1;32m      4\u001b[0m doc\u001b[38;5;241m.\u001b[39mdocx()\u001b[38;5;241m.\u001b[39msave(\u001b[38;5;124m'\u001b[39m\u001b[38;5;124mpoc4.docx\u001b[39m\u001b[38;5;124m'\u001b[39m)\n",
      "File \u001b[0;32m~/Documentos/projai3/projai/projai/article.py:113\u001b[0m, in \u001b[0;36mDocumentProcessor.load\u001b[0;34m(self, source)\u001b[0m\n\u001b[1;32m    111\u001b[0m \u001b[38;5;28;01mfor\u001b[39;00m section \u001b[38;5;129;01min\u001b[39;00m source[\u001b[38;5;124m\"\u001b[39m\u001b[38;5;124msections\u001b[39m\u001b[38;5;124m\"\u001b[39m]:\n\u001b[1;32m    112\u001b[0m     \u001b[38;5;28;01mtry\u001b[39;00m:\n\u001b[0;32m--> 113\u001b[0m         \u001b[38;5;28mself\u001b[39m\u001b[38;5;241m.\u001b[39madd_section(\u001b[43msection\u001b[49m\u001b[43m[\u001b[49m\u001b[38;5;124;43m\"\u001b[39;49m\u001b[38;5;124;43mtitle\u001b[39;49m\u001b[38;5;124;43m\"\u001b[39;49m\u001b[43m]\u001b[49m)\n\u001b[1;32m    114\u001b[0m     \u001b[38;5;28;01mexcept\u001b[39;00m \u001b[38;5;167;01mKeyError\u001b[39;00m \u001b[38;5;28;01mas\u001b[39;00m err:\n\u001b[1;32m    115\u001b[0m         \u001b[38;5;28mprint\u001b[39m(section)\n",
      "\u001b[0;31mTypeError\u001b[0m: string indices must be integers"
     ]
    }
   ],
   "source": [
    "# Caso falhe criar o docx, confira aqui\n",
    "doc = DocumentProcessor()\n",
    "doc.load(responses)\n",
    "doc.docx().save('poc4.docx')"
   ]
  }
 ],
 "metadata": {
  "kernelspec": {
   "display_name": ".venv",
   "language": "python",
   "name": "python3"
  },
  "language_info": {
   "codemirror_mode": {
    "name": "ipython",
    "version": 3
   },
   "file_extension": ".py",
   "mimetype": "text/x-python",
   "name": "python",
   "nbconvert_exporter": "python",
   "pygments_lexer": "ipython3",
   "version": "3.10.12"
  }
 },
 "nbformat": 4,
 "nbformat_minor": 2
}
